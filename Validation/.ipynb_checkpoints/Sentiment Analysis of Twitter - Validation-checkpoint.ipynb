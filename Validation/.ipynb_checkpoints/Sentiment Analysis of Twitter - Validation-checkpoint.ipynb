{
 "cells": [
  {
   "cell_type": "code",
   "execution_count": 1,
   "id": "3222c340",
   "metadata": {},
   "outputs": [],
   "source": [
    "import pandas as pd\n",
    "import numpy as np\n",
    "import pickle"
   ]
  },
  {
   "cell_type": "code",
   "execution_count": 2,
   "id": "e36ba705",
   "metadata": {},
   "outputs": [],
   "source": [
    "with open('model', 'rb') as file:\n",
    "    model = pickle.load(file)\n",
    "    \n",
    "with open('vectorizer', 'rb') as file:\n",
    "    vectorizer = pickle.load(file)"
   ]
  },
  {
   "cell_type": "code",
   "execution_count": 3,
   "id": "db60877c",
   "metadata": {
    "scrolled": true
   },
   "outputs": [
    {
     "data": {
      "text/html": [
       "<div>\n",
       "<style scoped>\n",
       "    .dataframe tbody tr th:only-of-type {\n",
       "        vertical-align: middle;\n",
       "    }\n",
       "\n",
       "    .dataframe tbody tr th {\n",
       "        vertical-align: top;\n",
       "    }\n",
       "\n",
       "    .dataframe thead th {\n",
       "        text-align: right;\n",
       "    }\n",
       "</style>\n",
       "<table border=\"1\" class=\"dataframe\">\n",
       "  <thead>\n",
       "    <tr style=\"text-align: right;\">\n",
       "      <th></th>\n",
       "      <th>text</th>\n",
       "      <th>sentiment</th>\n",
       "    </tr>\n",
       "  </thead>\n",
       "  <tbody>\n",
       "    <tr>\n",
       "      <th>0</th>\n",
       "      <td>@angelicabastien The Descent\\nI think the orig...</td>\n",
       "      <td>negative</td>\n",
       "    </tr>\n",
       "    <tr>\n",
       "      <th>1</th>\n",
       "      <td>@phillygodfather Tailing.😎👍 Good luck!🍀 https:...</td>\n",
       "      <td>positive</td>\n",
       "    </tr>\n",
       "    <tr>\n",
       "      <th>2</th>\n",
       "      <td>@CXHelen I want to do that in the supermarket,...</td>\n",
       "      <td>neutral</td>\n",
       "    </tr>\n",
       "    <tr>\n",
       "      <th>3</th>\n",
       "      <td>@KevinWJ6 @FlowersEnglish @BorisJohnson @priti...</td>\n",
       "      <td>negative</td>\n",
       "    </tr>\n",
       "    <tr>\n",
       "      <th>4</th>\n",
       "      <td>@TinyTinaTheCat @todormayer @nycsouthpaw The m...</td>\n",
       "      <td>positive</td>\n",
       "    </tr>\n",
       "    <tr>\n",
       "      <th>...</th>\n",
       "      <td>...</td>\n",
       "      <td>...</td>\n",
       "    </tr>\n",
       "    <tr>\n",
       "      <th>9995</th>\n",
       "      <td>I got problems lol</td>\n",
       "      <td>negative</td>\n",
       "    </tr>\n",
       "    <tr>\n",
       "      <th>9996</th>\n",
       "      <td>@McBuckets_0 @C2sig @BHines37 @BleacherReport ...</td>\n",
       "      <td>positive</td>\n",
       "    </tr>\n",
       "    <tr>\n",
       "      <th>9997</th>\n",
       "      <td>@weefred @JohnDW1970 @GBNEWS @Nigel_Farage I’l...</td>\n",
       "      <td>negative</td>\n",
       "    </tr>\n",
       "    <tr>\n",
       "      <th>9998</th>\n",
       "      <td>Wimbledon: Nick Kyrgios admits spitting toward...</td>\n",
       "      <td>positive</td>\n",
       "    </tr>\n",
       "    <tr>\n",
       "      <th>9999</th>\n",
       "      <td>@channelstv Obi is sounding like a broken reco...</td>\n",
       "      <td>negative</td>\n",
       "    </tr>\n",
       "  </tbody>\n",
       "</table>\n",
       "<p>10000 rows × 2 columns</p>\n",
       "</div>"
      ],
      "text/plain": [
       "                                                   text sentiment\n",
       "0     @angelicabastien The Descent\\nI think the orig...  negative\n",
       "1     @phillygodfather Tailing.😎👍 Good luck!🍀 https:...  positive\n",
       "2     @CXHelen I want to do that in the supermarket,...   neutral\n",
       "3     @KevinWJ6 @FlowersEnglish @BorisJohnson @priti...  negative\n",
       "4     @TinyTinaTheCat @todormayer @nycsouthpaw The m...  positive\n",
       "...                                                 ...       ...\n",
       "9995                                 I got problems lol  negative\n",
       "9996  @McBuckets_0 @C2sig @BHines37 @BleacherReport ...  positive\n",
       "9997  @weefred @JohnDW1970 @GBNEWS @Nigel_Farage I’l...  negative\n",
       "9998  Wimbledon: Nick Kyrgios admits spitting toward...  positive\n",
       "9999  @channelstv Obi is sounding like a broken reco...  negative\n",
       "\n",
       "[10000 rows x 2 columns]"
      ]
     },
     "execution_count": 3,
     "metadata": {},
     "output_type": "execute_result"
    }
   ],
   "source": [
    "new_data = pd.read_csv(\"Data_to_validate_1k_entries.csv\")\n",
    "new_data"
   ]
  },
  {
   "cell_type": "code",
   "execution_count": 4,
   "id": "b10709e7",
   "metadata": {},
   "outputs": [],
   "source": [
    "X = vectorizer.transform(new_data['text'])\n",
    "new_data_without_targets = pd.DataFrame(X.toarray(), columns=vectorizer.get_feature_names_out())"
   ]
  },
  {
   "cell_type": "code",
   "execution_count": 5,
   "id": "f8d23ac8",
   "metadata": {},
   "outputs": [
    {
     "data": {
      "text/plain": [
       "array([2, 1, 0, ..., 2, 0, 2], dtype=int64)"
      ]
     },
     "execution_count": 5,
     "metadata": {},
     "output_type": "execute_result"
    }
   ],
   "source": [
    "pred = model.predict(new_data_without_targets)\n",
    "pred"
   ]
  },
  {
   "cell_type": "code",
   "execution_count": 6,
   "id": "dffd00d0",
   "metadata": {},
   "outputs": [],
   "source": [
    "targets = np.array(new_data[\"sentiment\"].map({'neutral': 0, 'positive': 1, 'negative': 2}))"
   ]
  },
  {
   "cell_type": "code",
   "execution_count": 7,
   "id": "744314a5",
   "metadata": {},
   "outputs": [],
   "source": [
    "from sklearn.metrics import accuracy_score\n",
    "\n",
    "acc = accuracy_score(targets, pred)"
   ]
  },
  {
   "cell_type": "code",
   "execution_count": 8,
   "id": "32ac2845",
   "metadata": {},
   "outputs": [
    {
     "data": {
      "text/plain": [
       "0.5437"
      ]
     },
     "execution_count": 8,
     "metadata": {},
     "output_type": "execute_result"
    }
   ],
   "source": [
    "acc"
   ]
  },
  {
   "cell_type": "markdown",
   "id": "2b170771",
   "metadata": {},
   "source": [
    "## Conclusion\n",
    "\n",
    "With this new data, the accuracy decreased even more, this is probably because our model is undertrained, apparently 23k inputs is not enough to validate this and it's a bit obvious, since natural language processing is very complex. When trying to train my model with a dataset of 690k entries, Jupyter could not support it since when converting the texts to numeric values, they were excessively large shapes for a dataframe, maybe I can try to improve it in the future in some other processing conditions."
   ]
  }
 ],
 "metadata": {
  "kernelspec": {
   "display_name": "Python 3 (ipykernel)",
   "language": "python",
   "name": "python3"
  },
  "language_info": {
   "codemirror_mode": {
    "name": "ipython",
    "version": 3
   },
   "file_extension": ".py",
   "mimetype": "text/x-python",
   "name": "python",
   "nbconvert_exporter": "python",
   "pygments_lexer": "ipython3",
   "version": "3.9.13"
  }
 },
 "nbformat": 4,
 "nbformat_minor": 5
}
