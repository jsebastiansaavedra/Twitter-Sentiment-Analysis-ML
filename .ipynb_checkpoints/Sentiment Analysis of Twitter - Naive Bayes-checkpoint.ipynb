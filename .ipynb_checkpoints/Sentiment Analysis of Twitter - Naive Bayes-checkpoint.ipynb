{
 "cells": [
  {
   "cell_type": "code",
   "execution_count": 1,
   "id": "81a88902",
   "metadata": {},
   "outputs": [],
   "source": [
    "import pandas as pd\n",
    "import numpy as np\n",
    "from sklearn.model_selection import train_test_split"
   ]
  },
  {
   "cell_type": "markdown",
   "id": "42c33300",
   "metadata": {},
   "source": [
    "## Load the data"
   ]
  },
  {
   "cell_type": "code",
   "execution_count": 2,
   "id": "2be03cd6",
   "metadata": {},
   "outputs": [
    {
     "data": {
      "text/html": [
       "<div>\n",
       "<style scoped>\n",
       "    .dataframe tbody tr th:only-of-type {\n",
       "        vertical-align: middle;\n",
       "    }\n",
       "\n",
       "    .dataframe tbody tr th {\n",
       "        vertical-align: top;\n",
       "    }\n",
       "\n",
       "    .dataframe thead th {\n",
       "        text-align: right;\n",
       "    }\n",
       "</style>\n",
       "<table border=\"1\" class=\"dataframe\">\n",
       "  <thead>\n",
       "    <tr style=\"text-align: right;\">\n",
       "      <th></th>\n",
       "      <th>text</th>\n",
       "      <th>sentiment</th>\n",
       "    </tr>\n",
       "  </thead>\n",
       "  <tbody>\n",
       "    <tr>\n",
       "      <th>0</th>\n",
       "      <td>- It is supposed to be an unrelated (story-wi...</td>\n",
       "      <td>negative</td>\n",
       "    </tr>\n",
       "    <tr>\n",
       "      <th>1</th>\n",
       "      <td>homework on a friday night...lame</td>\n",
       "      <td>negative</td>\n",
       "    </tr>\n",
       "    <tr>\n",
       "      <th>2</th>\n",
       "      <td>gutted - the handbag I wanted has been sold!</td>\n",
       "      <td>negative</td>\n",
       "    </tr>\n",
       "    <tr>\n",
       "      <th>3</th>\n",
       "      <td>i miss 'mr.'</td>\n",
       "      <td>negative</td>\n",
       "    </tr>\n",
       "    <tr>\n",
       "      <th>4</th>\n",
       "      <td>me too i hate revision</td>\n",
       "      <td>negative</td>\n",
       "    </tr>\n",
       "    <tr>\n",
       "      <th>...</th>\n",
       "      <td>...</td>\n",
       "      <td>...</td>\n",
       "    </tr>\n",
       "    <tr>\n",
       "      <th>23338</th>\n",
       "      <td>My gut says to replace $$$ appliances instead ...</td>\n",
       "      <td>positive</td>\n",
       "    </tr>\n",
       "    <tr>\n",
       "      <th>23339</th>\n",
       "      <td>aaawww  no worries fresh start to work on gro...</td>\n",
       "      <td>positive</td>\n",
       "    </tr>\n",
       "    <tr>\n",
       "      <th>23340</th>\n",
       "      <td>weird as usual, but ok... that`s why we like it</td>\n",
       "      <td>positive</td>\n",
       "    </tr>\n",
       "    <tr>\n",
       "      <th>23341</th>\n",
       "      <td>????? ,my latest obession.</td>\n",
       "      <td>positive</td>\n",
       "    </tr>\n",
       "    <tr>\n",
       "      <th>23342</th>\n",
       "      <td>I doubt I`ll get one to be honest</td>\n",
       "      <td>positive</td>\n",
       "    </tr>\n",
       "  </tbody>\n",
       "</table>\n",
       "<p>23343 rows × 2 columns</p>\n",
       "</div>"
      ],
      "text/plain": [
       "                                                    text sentiment\n",
       "0       - It is supposed to be an unrelated (story-wi...  negative\n",
       "1                      homework on a friday night...lame  negative\n",
       "2           gutted - the handbag I wanted has been sold!  negative\n",
       "3                                           i miss 'mr.'  negative\n",
       "4                                 me too i hate revision  negative\n",
       "...                                                  ...       ...\n",
       "23338  My gut says to replace $$$ appliances instead ...  positive\n",
       "23339   aaawww  no worries fresh start to work on gro...  positive\n",
       "23340    weird as usual, but ok... that`s why we like it  positive\n",
       "23341                         ????? ,my latest obession.  positive\n",
       "23342                  I doubt I`ll get one to be honest  positive\n",
       "\n",
       "[23343 rows x 2 columns]"
      ]
     },
     "execution_count": 2,
     "metadata": {},
     "output_type": "execute_result"
    }
   ],
   "source": [
    "data = pd.read_csv(\"Tweets_preprocessed.csv\")\n",
    "data"
   ]
  },
  {
   "cell_type": "code",
   "execution_count": 3,
   "id": "3b25fa93",
   "metadata": {},
   "outputs": [],
   "source": [
    "# First of all we have to divide the data into inputs and targets\n",
    "inputs = data[[\"text\"]]\n",
    "# We have to convert the targets into numerical values\n",
    "targets = np.array(data[\"sentiment\"].map({'neutral': 0, 'positive': 1, 'negative': 2}))"
   ]
  },
  {
   "cell_type": "markdown",
   "id": "5aae86dc",
   "metadata": {},
   "source": [
    "## We have to use NLP techniques to convert our data into something that our model understand"
   ]
  },
  {
   "cell_type": "code",
   "execution_count": 4,
   "id": "f6f6ac86",
   "metadata": {},
   "outputs": [],
   "source": [
    "from sklearn.feature_extraction.text import CountVectorizer"
   ]
  },
  {
   "cell_type": "code",
   "execution_count": 5,
   "id": "98bed60f",
   "metadata": {},
   "outputs": [],
   "source": [
    "# Create the vectorizer\n",
    "vectorizer = CountVectorizer()"
   ]
  },
  {
   "cell_type": "code",
   "execution_count": 6,
   "id": "aa09961c",
   "metadata": {},
   "outputs": [
    {
     "data": {
      "text/plain": [
       "CountVectorizer()"
      ]
     },
     "execution_count": 6,
     "metadata": {},
     "output_type": "execute_result"
    }
   ],
   "source": [
    "# Fit the vectorizer with the data\n",
    "vectorizer.fit(inputs['text'])"
   ]
  },
  {
   "cell_type": "code",
   "execution_count": 7,
   "id": "c1b5f36d",
   "metadata": {},
   "outputs": [],
   "source": [
    "# Transforming the data\n",
    "X = vectorizer.transform(inputs['text'])"
   ]
  },
  {
   "cell_type": "code",
   "execution_count": 8,
   "id": "2ea4ab83",
   "metadata": {},
   "outputs": [],
   "source": [
    "# Saving it in the same variable inputs as a dataframe\n",
    "inputs = pd.DataFrame(X.toarray(), columns=vectorizer.get_feature_names_out())"
   ]
  },
  {
   "cell_type": "markdown",
   "id": "1ff437a3",
   "metadata": {},
   "source": [
    "## Split the data into train and test and shuffle conserving the balance"
   ]
  },
  {
   "cell_type": "code",
   "execution_count": 9,
   "id": "19b1376b",
   "metadata": {},
   "outputs": [],
   "source": [
    "X_train, X_test, y_train, y_test = train_test_split(inputs, targets, test_size=0.2, random_state=42, stratify=targets)"
   ]
  },
  {
   "cell_type": "markdown",
   "id": "141dada2",
   "metadata": {},
   "source": [
    "## Naive Bayes model with SkLearn"
   ]
  },
  {
   "cell_type": "code",
   "execution_count": 10,
   "id": "85aa9839",
   "metadata": {},
   "outputs": [],
   "source": [
    "from sklearn.naive_bayes import MultinomialNB\n",
    "from sklearn.metrics import accuracy_score"
   ]
  },
  {
   "cell_type": "code",
   "execution_count": 11,
   "id": "22d5446b",
   "metadata": {},
   "outputs": [],
   "source": [
    "# Create the model\n",
    "nb = MultinomialNB()"
   ]
  },
  {
   "cell_type": "code",
   "execution_count": 12,
   "id": "aef09238",
   "metadata": {},
   "outputs": [
    {
     "data": {
      "text/plain": [
       "MultinomialNB()"
      ]
     },
     "execution_count": 12,
     "metadata": {},
     "output_type": "execute_result"
    }
   ],
   "source": [
    "# Train the model\n",
    "nb.fit(X_train, y_train)"
   ]
  },
  {
   "cell_type": "code",
   "execution_count": 13,
   "id": "8baf811f",
   "metadata": {},
   "outputs": [],
   "source": [
    "# Make predictions\n",
    "y_pred = nb.predict(X_test)"
   ]
  },
  {
   "cell_type": "code",
   "execution_count": 14,
   "id": "58e70162",
   "metadata": {
    "scrolled": true
   },
   "outputs": [
    {
     "name": "stdout",
     "output_type": "stream",
     "text": [
      "Accuracy: 0.6577425572927822\n"
     ]
    }
   ],
   "source": [
    "# Calculate the accuracy\n",
    "accuracy = accuracy_score(y_test, y_pred)\n",
    "print(\"Accuracy:\", accuracy)"
   ]
  },
  {
   "cell_type": "markdown",
   "id": "004dacbf",
   "metadata": {},
   "source": [
    "## Conclusion\n",
    "\n",
    "It might seem that it is not a good model, but it must be taken into account that the dataset is not very large and that it is only taking into account the full text of the tweet, that is, for any tweet it could have a 65% security rate. answer if it is of a positive, negative or neutral feeling"
   ]
  },
  {
   "cell_type": "markdown",
   "id": "aae0d57b",
   "metadata": {},
   "source": [
    "## Saving the model and the vectorizer"
   ]
  },
  {
   "cell_type": "code",
   "execution_count": 15,
   "id": "1b70fe58",
   "metadata": {},
   "outputs": [],
   "source": [
    "import pickle"
   ]
  },
  {
   "cell_type": "code",
   "execution_count": 16,
   "id": "b68a2098",
   "metadata": {},
   "outputs": [],
   "source": [
    "with open(\"model\", \"wb\") as file:\n",
    "    pickle.dump(nb, file)"
   ]
  },
  {
   "cell_type": "code",
   "execution_count": 17,
   "id": "c4b07e64",
   "metadata": {},
   "outputs": [],
   "source": [
    "with open(\"vectorizer\", \"wb\") as file:\n",
    "    pickle.dump(vectorizer, file)"
   ]
  }
 ],
 "metadata": {
  "kernelspec": {
   "display_name": "Python 3 (ipykernel)",
   "language": "python",
   "name": "python3"
  },
  "language_info": {
   "codemirror_mode": {
    "name": "ipython",
    "version": 3
   },
   "file_extension": ".py",
   "mimetype": "text/x-python",
   "name": "python",
   "nbconvert_exporter": "python",
   "pygments_lexer": "ipython3",
   "version": "3.9.13"
  }
 },
 "nbformat": 4,
 "nbformat_minor": 5
}
